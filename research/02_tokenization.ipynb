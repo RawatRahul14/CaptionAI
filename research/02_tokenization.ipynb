{
 "cells": [
  {
   "cell_type": "code",
   "execution_count": 1,
   "metadata": {},
   "outputs": [],
   "source": [
    "import os"
   ]
  },
  {
   "cell_type": "code",
   "execution_count": 2,
   "metadata": {},
   "outputs": [
    {
     "data": {
      "text/plain": [
       "'c:\\\\Users\\\\rahul\\\\Desktop\\\\Project\\\\CaptionAI\\\\research'"
      ]
     },
     "execution_count": 2,
     "metadata": {},
     "output_type": "execute_result"
    }
   ],
   "source": [
    "%pwd"
   ]
  },
  {
   "cell_type": "code",
   "execution_count": 3,
   "metadata": {},
   "outputs": [],
   "source": [
    "os.chdir(\"../\")"
   ]
  },
  {
   "cell_type": "code",
   "execution_count": 4,
   "metadata": {},
   "outputs": [
    {
     "data": {
      "text/plain": [
       "'c:\\\\Users\\\\rahul\\\\Desktop\\\\Project\\\\CaptionAI'"
      ]
     },
     "execution_count": 4,
     "metadata": {},
     "output_type": "execute_result"
    }
   ],
   "source": [
    "%pwd"
   ]
  },
  {
   "cell_type": "markdown",
   "metadata": {},
   "source": [
    "Entity"
   ]
  },
  {
   "cell_type": "code",
   "execution_count": 5,
   "metadata": {},
   "outputs": [],
   "source": [
    "from dataclasses import dataclass\n",
    "from pathlib import Path\n",
    "\n",
    "@dataclass(frozen = True)\n",
    "class TokenizationConfig:\n",
    "    root_dir: Path\n",
    "    token_file: Path\n",
    "    caption_file: Path\n",
    "    tokenizer_type: str\n",
    "    unk_token: str\n",
    "    pad_token: str\n",
    "    sos_token: str\n",
    "    eos_token: str"
   ]
  },
  {
   "cell_type": "markdown",
   "metadata": {},
   "source": [
    "Configuration"
   ]
  },
  {
   "cell_type": "code",
   "execution_count": 6,
   "metadata": {},
   "outputs": [],
   "source": [
    "from CaptionAI.constants import *\n",
    "from CaptionAI.utils.common import read_yaml, create_directories"
   ]
  },
  {
   "cell_type": "code",
   "execution_count": 7,
   "metadata": {},
   "outputs": [],
   "source": [
    "class ConfigurationManager:\n",
    "    def __init__(self,\n",
    "                 config_file_path = CONFIG_FILE_PATH,\n",
    "                 params_file_path = PARAMS_FILE_PATH):\n",
    "        self.config = read_yaml(config_file_path)\n",
    "        self.params = read_yaml(params_file_path)\n",
    "\n",
    "        create_directories([self.config.artifacts_root])\n",
    "\n",
    "    def get_tokenization_config(self):\n",
    "        config = self.config.tokenization\n",
    "        create_directories([config.root_dir])\n",
    "\n",
    "        tokenization_config = TokenizationConfig(\n",
    "            root_dir = config.root_dir,\n",
    "            token_file = config.token_file,\n",
    "            caption_file = config.caption_file,\n",
    "            tokenizer_type = config.tokenizer_type,\n",
    "            unk_token = \"<unk>\",\n",
    "            pad_token = \"<pad>\",\n",
    "            sos_token = \"<sos>\",\n",
    "            eos_token = \"<eos>\"\n",
    "        )\n",
    "\n",
    "        return tokenization_config"
   ]
  },
  {
   "cell_type": "markdown",
   "metadata": {},
   "source": [
    "Components"
   ]
  },
  {
   "cell_type": "code",
   "execution_count": 8,
   "metadata": {},
   "outputs": [],
   "source": [
    "from torchtext.vocab import vocab\n",
    "from torchtext.data.utils import get_tokenizer\n",
    "from CaptionAI import logger\n",
    "import pandas as pd\n",
    "import pickle\n",
    "\n",
    "from collections import Counter"
   ]
  },
  {
   "cell_type": "code",
   "execution_count": 9,
   "metadata": {},
   "outputs": [],
   "source": [
    "class Tokenization:\n",
    "    def __init__(self, config: TokenizationConfig):\n",
    "        self.config = config\n",
    "\n",
    "    def init_tokenizer(self):\n",
    "        logger.info(\"Initializing the Tokenizer.\")\n",
    "        self.tokenizer = get_tokenizer(self.config.tokenizer_type)\n",
    "        self.counter = Counter()\n",
    "\n",
    "    def build_vocab(self):\n",
    "        logger.info(\"Building the vocab.\")\n",
    "        lines = pd.read_csv(self.config.caption_file)\n",
    "        for line in lines[\"caption\"].tolist():\n",
    "            self.counter.update(self.tokenizer(line))\n",
    "\n",
    "        self.vocab = vocab(self.counter, min_freq = 5)\n",
    "\n",
    "        self.vocab.insert_token(self.config.unk_token, 0)\n",
    "        self.vocab.insert_token(self.config.pad_token, 1)\n",
    "        self.vocab.insert_token(self.config.sos_token, 2)\n",
    "        self.vocab.insert_token(self.config.eos_token, 3)\n",
    "\n",
    "        self.vocab.set_default_index(self.vocab[self.config.unk_token])\n",
    "\n",
    "        logger.info(\"Finished Creating the vocab.\")\n",
    "\n",
    "    def save_vocab_pickle(self):\n",
    "        with open(self.config.token_file, \"wb\") as f:\n",
    "            pickle.dump(self.vocab, f)\n",
    "        logger.info(f\"Vocabulary saved to {self.config.token_file}.\")"
   ]
  },
  {
   "cell_type": "markdown",
   "metadata": {},
   "source": [
    "Pipeline"
   ]
  },
  {
   "cell_type": "code",
   "execution_count": 10,
   "metadata": {},
   "outputs": [
    {
     "name": "stdout",
     "output_type": "stream",
     "text": [
      "[2024-12-07 22:42:35,959: INFO: common: yaml file: config\\config.yaml loaded successfully]\n",
      "[2024-12-07 22:42:35,962: INFO: common: yaml file: params.yaml loaded successfully]\n",
      "[2024-12-07 22:42:35,963: INFO: common: created directory at: artifacts]\n",
      "[2024-12-07 22:42:35,965: INFO: common: created directory at: artifacts/tokenization]\n",
      "[2024-12-07 22:42:35,966: INFO: 789261004: Initializing the Tokenizer.]\n",
      "[2024-12-07 22:42:35,967: INFO: 789261004: Building the vocab.]\n",
      "[2024-12-07 22:42:36,560: INFO: 789261004: Finished Creating the vocab.]\n",
      "[2024-12-07 22:42:36,563: INFO: 789261004: Vocabulary saved to artifacts/tokenization/data.]\n"
     ]
    }
   ],
   "source": [
    "try:\n",
    "    config = ConfigurationManager()\n",
    "    tokenization_config = config.get_tokenization_config()\n",
    "    tokenization = Tokenization(config = tokenization_config)\n",
    "    tokenization.init_tokenizer()\n",
    "    tokenization.build_vocab()\n",
    "    tokenization.save_vocab_pickle()\n",
    "except Exception as e:\n",
    "    raise e"
   ]
  }
 ],
 "metadata": {
  "kernelspec": {
   "display_name": ".venv",
   "language": "python",
   "name": "python3"
  },
  "language_info": {
   "codemirror_mode": {
    "name": "ipython",
    "version": 3
   },
   "file_extension": ".py",
   "mimetype": "text/x-python",
   "name": "python",
   "nbconvert_exporter": "python",
   "pygments_lexer": "ipython3",
   "version": "3.11.8"
  }
 },
 "nbformat": 4,
 "nbformat_minor": 2
}
