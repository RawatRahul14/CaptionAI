{
 "cells": [
  {
   "cell_type": "code",
   "execution_count": 1,
   "metadata": {},
   "outputs": [],
   "source": [
    "import os"
   ]
  },
  {
   "cell_type": "code",
   "execution_count": 2,
   "metadata": {},
   "outputs": [
    {
     "data": {
      "text/plain": [
       "'c:\\\\Users\\\\rahul\\\\Desktop\\\\Project\\\\CaptionAI\\\\research'"
      ]
     },
     "execution_count": 2,
     "metadata": {},
     "output_type": "execute_result"
    }
   ],
   "source": [
    "%pwd"
   ]
  },
  {
   "cell_type": "code",
   "execution_count": 3,
   "metadata": {},
   "outputs": [],
   "source": [
    "os.chdir(\"../\")"
   ]
  },
  {
   "cell_type": "code",
   "execution_count": 4,
   "metadata": {},
   "outputs": [
    {
     "data": {
      "text/plain": [
       "'c:\\\\Users\\\\rahul\\\\Desktop\\\\Project\\\\CaptionAI'"
      ]
     },
     "execution_count": 4,
     "metadata": {},
     "output_type": "execute_result"
    }
   ],
   "source": [
    "%pwd"
   ]
  },
  {
   "cell_type": "markdown",
   "metadata": {},
   "source": [
    "Entity"
   ]
  },
  {
   "cell_type": "code",
   "execution_count": 5,
   "metadata": {},
   "outputs": [],
   "source": [
    "from dataclasses import dataclass\n",
    "from pathlib import Path\n",
    "\n",
    "@dataclass(frozen = True)\n",
    "class CustomDatasetConfig:\n",
    "    root_dir: Path\n",
    "    image_dir: Path\n",
    "    caption_file: Path\n",
    "    vocab: Path\n",
    "    save_file_path: Path\n",
    "    transform: bool"
   ]
  },
  {
   "cell_type": "markdown",
   "metadata": {},
   "source": [
    "Configuration"
   ]
  },
  {
   "cell_type": "code",
   "execution_count": 6,
   "metadata": {},
   "outputs": [],
   "source": [
    "from CaptionAI.constants import *\n",
    "from CaptionAI.utils.common import read_yaml, create_directories"
   ]
  },
  {
   "cell_type": "code",
   "execution_count": 7,
   "metadata": {},
   "outputs": [],
   "source": [
    "class ConfigurationManager:\n",
    "    def __init__(self,\n",
    "                 config_file_path = CONFIG_FILE_PATH,\n",
    "                 params_file_path = PARAMS_FILE_PATH):\n",
    "        \n",
    "        self.config = read_yaml(config_file_path)\n",
    "        self.params = read_yaml(params_file_path)\n",
    "\n",
    "        create_directories([self.config.artifacts_root])\n",
    "\n",
    "    def get_dataset_config(self):\n",
    "        config = self.config.custom_dataset\n",
    "\n",
    "        create_directories([config.root_dir])\n",
    "\n",
    "        dataset_config = CustomDatasetConfig(\n",
    "            root_dir = config.root_dir,\n",
    "            image_dir = config.image_dir,\n",
    "            caption_file = config.caption_file,\n",
    "            vocab = config.vocab,\n",
    "            save_file_path = config.save_file_path,\n",
    "            transform = False\n",
    "        )\n",
    "\n",
    "        return dataset_config"
   ]
  },
  {
   "cell_type": "markdown",
   "metadata": {},
   "source": [
    "Components"
   ]
  },
  {
   "cell_type": "code",
   "execution_count": 8,
   "metadata": {},
   "outputs": [],
   "source": [
    "from CaptionAI.utils.dataset import FlickrDataset, generate_batch_captions\n",
    "from torch.utils.data import DataLoader\n",
    "from CaptionAI import logger\n",
    "import pickle\n",
    "from tqdm import tqdm"
   ]
  },
  {
   "cell_type": "code",
   "execution_count": 9,
   "metadata": {},
   "outputs": [],
   "source": [
    "class DatasetCreation:\n",
    "    def __init__(self, config: CustomDatasetConfig):\n",
    "        self.config = config\n",
    "        self.flickr_dataset = None\n",
    "        self._create_dataset()\n",
    "\n",
    "    def _create_dataset(self):\n",
    "        logger.info(\"Creating the Custom Dataset.\")\n",
    "        self.flickr_dataset = FlickrDataset(\n",
    "            image_dir = self.config.image_dir,\n",
    "            caption_file = self.config.caption_file,\n",
    "            vocab_file = self.config.vocab\n",
    "        )\n",
    "        logger.info(\"Custom Dataset is created.\")\n",
    "\n",
    "    def create_dataloader(self, batch_size: int = 512):\n",
    "        logger.info(\"Data Loader is getting created.\")\n",
    "        self.data_loader = DataLoader(\n",
    "            dataset = self.flickr_dataset,\n",
    "            batch_size = batch_size,\n",
    "            shuffle = True,\n",
    "            collate_fn = generate_batch_captions(pad_idx = 1,\n",
    "                                                 batch_first = True)\n",
    "        )\n",
    "        logger.info(\"Data Loader is created.\")\n",
    "\n",
    "    def save_dataset(self):\n",
    "        all_batches = []\n",
    "        logger.info(\"Saving dataset batches...\")\n",
    "        \n",
    "        for batch in tqdm(self.data_loader, desc = \"Saving Batches\", unit = \"batch\"):\n",
    "            all_batches.append(batch)\n",
    "\n",
    "        with open(self.config.save_file_path, \"wb\") as f:\n",
    "            pickle.dump(all_batches, f)\n",
    "\n",
    "        logger.info(f\"DataLoader batches saved to {self.config.save_file_path}\")\n"
   ]
  },
  {
   "cell_type": "markdown",
   "metadata": {},
   "source": [
    "Pipeline"
   ]
  },
  {
   "cell_type": "code",
   "execution_count": 10,
   "metadata": {},
   "outputs": [
    {
     "name": "stdout",
     "output_type": "stream",
     "text": [
      "[2024-12-08 10:26:53,693: INFO: common: yaml file: config\\config.yaml loaded successfully]\n",
      "[2024-12-08 10:26:53,695: INFO: common: yaml file: params.yaml loaded successfully]\n",
      "[2024-12-08 10:26:53,696: INFO: common: created directory at: artifacts]\n",
      "[2024-12-08 10:26:53,696: INFO: common: created directory at: artifacts/custom_dataset]\n",
      "[2024-12-08 10:26:53,698: INFO: 4238582117: Creating the Custom Dataset.]\n",
      "[2024-12-08 10:26:53,786: INFO: dataset: Vocabulary loaded from artifacts/tokenization/data.]\n",
      "[2024-12-08 10:26:53,787: INFO: 4238582117: Custom Dataset is created.]\n",
      "[2024-12-08 10:26:53,788: INFO: 4238582117: Data Loader is getting created.]\n",
      "[2024-12-08 10:26:53,789: INFO: 4238582117: Data Loader is created.]\n",
      "[2024-12-08 10:26:53,789: INFO: 4238582117: Saving dataset batches...]\n"
     ]
    },
    {
     "name": "stderr",
     "output_type": "stream",
     "text": [
      "Saving Batches: 100%|██████████| 80/80 [03:33<00:00,  2.67s/batch]\n"
     ]
    },
    {
     "name": "stdout",
     "output_type": "stream",
     "text": [
      "[2024-12-08 10:35:17,697: INFO: 4238582117: DataLoader batches saved to artifacts/custom_dataset/data]\n"
     ]
    }
   ],
   "source": [
    "try:\n",
    "    config = ConfigurationManager()\n",
    "    custom_dataset_config = config.get_dataset_config()\n",
    "    create_dataset = DatasetCreation(config = custom_dataset_config)\n",
    "    create_dataset.create_dataloader()\n",
    "    create_dataset.save_dataset()\n",
    "except Exception as e:\n",
    "    raise e"
   ]
  },
  {
   "cell_type": "code",
   "execution_count": null,
   "metadata": {},
   "outputs": [],
   "source": []
  }
 ],
 "metadata": {
  "kernelspec": {
   "display_name": ".venv",
   "language": "python",
   "name": "python3"
  },
  "language_info": {
   "codemirror_mode": {
    "name": "ipython",
    "version": 3
   },
   "file_extension": ".py",
   "mimetype": "text/x-python",
   "name": "python",
   "nbconvert_exporter": "python",
   "pygments_lexer": "ipython3",
   "version": "3.11.8"
  }
 },
 "nbformat": 4,
 "nbformat_minor": 2
}
