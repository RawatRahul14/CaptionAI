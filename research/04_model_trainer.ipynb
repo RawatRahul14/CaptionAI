{
 "cells": [
  {
   "cell_type": "code",
   "execution_count": 1,
   "metadata": {},
   "outputs": [],
   "source": [
    "import os\n"
   ]
  },
  {
   "cell_type": "code",
   "execution_count": 2,
   "metadata": {},
   "outputs": [
    {
     "data": {
      "text/plain": [
       "'c:\\\\Users\\\\rahul\\\\Desktop\\\\Project\\\\CaptionAI\\\\research'"
      ]
     },
     "execution_count": 2,
     "metadata": {},
     "output_type": "execute_result"
    }
   ],
   "source": [
    "%pwd"
   ]
  },
  {
   "cell_type": "code",
   "execution_count": 3,
   "metadata": {},
   "outputs": [],
   "source": [
    "os.chdir(\"../\")"
   ]
  },
  {
   "cell_type": "code",
   "execution_count": 4,
   "metadata": {},
   "outputs": [
    {
     "data": {
      "text/plain": [
       "'c:\\\\Users\\\\rahul\\\\Desktop\\\\Project\\\\CaptionAI'"
      ]
     },
     "execution_count": 4,
     "metadata": {},
     "output_type": "execute_result"
    }
   ],
   "source": [
    "%pwd"
   ]
  },
  {
   "cell_type": "markdown",
   "metadata": {},
   "source": [
    "Entity"
   ]
  },
  {
   "cell_type": "code",
   "execution_count": 5,
   "metadata": {},
   "outputs": [],
   "source": [
    "from dataclasses import dataclass\n",
    "from pathlib import Path\n",
    "\n",
    "@dataclass(frozen = True)\n",
    "class ModelTrainerConfig:\n",
    "    root_dir: Path\n",
    "    data_dir: Path\n",
    "    token_dir: Path\n",
    "    emb_size: int\n",
    "    attn_size: int\n",
    "    enc_hidden_size: int\n",
    "    dec_hidden_size: int\n",
    "    learning_rate: float"
   ]
  },
  {
   "cell_type": "markdown",
   "metadata": {},
   "source": [
    "Configuration"
   ]
  },
  {
   "cell_type": "code",
   "execution_count": 6,
   "metadata": {},
   "outputs": [],
   "source": [
    "from CaptionAI.constants import *\n",
    "from CaptionAI.utils.common import read_yaml, create_directories"
   ]
  },
  {
   "cell_type": "code",
   "execution_count": 7,
   "metadata": {},
   "outputs": [],
   "source": [
    "class ConfigurationManager:\n",
    "    def __init__(self,\n",
    "                 config_file_path = CONFIG_FILE_PATH,\n",
    "                 params_file_path = PARAMS_FILE_PATH):\n",
    "        \n",
    "        self.config = read_yaml(config_file_path)\n",
    "        self.params = read_yaml(params_file_path)\n",
    "\n",
    "        create_directories([self.config.artifacts_root])\n",
    "\n",
    "    def get_model_trainer_config(self):\n",
    "        config = self.config.model_trainer\n",
    "        params = self.params.model_params\n",
    "\n",
    "        create_directories([config.root_dir])\n",
    "\n",
    "        modeltrainer_config = ModelTrainerConfig(\n",
    "            root_dir = config.root_dir,\n",
    "            data_dir = config.data_dir,\n",
    "            token_dir = config.token_dir,\n",
    "            emb_size = params.emb_size,\n",
    "            attn_size = params.attn_size,\n",
    "            enc_hidden_size = params.enc_hidden_size,\n",
    "            dec_hidden_size = params.dec_hidden_size,\n",
    "            learning_rate = params.learning_rate\n",
    "        )\n",
    "\n",
    "        return modeltrainer_config"
   ]
  },
  {
   "cell_type": "markdown",
   "metadata": {},
   "source": [
    "Components"
   ]
  },
  {
   "cell_type": "code",
   "execution_count": 12,
   "metadata": {},
   "outputs": [],
   "source": [
    "from CaptionAI.utils.model import EncoderCNN, DecoderRNN, Attention\n",
    "from CaptionAI.utils.common import get_device\n",
    "from CaptionAI import logger\n",
    "import torch\n",
    "import torch.optim as optim\n",
    "import torch.nn as nn\n",
    "import pickle\n",
    "from tqdm import tqdm"
   ]
  },
  {
   "cell_type": "code",
   "execution_count": 13,
   "metadata": {},
   "outputs": [],
   "source": [
    "class Img2Caption(nn.Module):\n",
    "    def __init__(self,\n",
    "                 emb_size,\n",
    "                 vocab_size,\n",
    "                 attn_size,\n",
    "                 enc_hidden_size,\n",
    "                 dec_hidden_size,\n",
    "                 drop_prob = 0.3):\n",
    "        super(Img2Caption, self).__init__()\n",
    "\n",
    "        self.encoder = EncoderCNN()\n",
    "\n",
    "        self.decoder = DecoderRNN(\n",
    "            embd_size = emb_size,\n",
    "            vocab_size = vocab_size,\n",
    "            attn_size = attn_size,\n",
    "            enc_hidden_state = enc_hidden_size,\n",
    "            dec_hidden_state = dec_hidden_size\n",
    "        )\n",
    "\n",
    "    def forward(self, images, captions):\n",
    "        features = self.encoder(images)\n",
    "        output = self.decoder(features, captions)\n",
    "        return output"
   ]
  },
  {
   "cell_type": "code",
   "execution_count": null,
   "metadata": {},
   "outputs": [],
   "source": [
    "class ModelTrain:\n",
    "    def __init__(self, config: ModelTrainerConfig):\n",
    "        self.config = config\n",
    "        self.data_loader = None\n",
    "        self._get_vocab()\n",
    "        self._read_data_loader()\n",
    "        self._init_model()\n",
    "\n",
    "    def _get_vocab(self):\n",
    "        with open(self.config.token_dir, \"rb\") as f:\n",
    "            self.vocab = pickle.load(f)\n",
    "\n",
    "    def _init_model(self):\n",
    "\n",
    "        self.device = get_device()\n",
    "\n",
    "        self.model = Img2Caption(\n",
    "            emb_size = self.config.emb_size,\n",
    "            vocab_size = len(self.vocab),\n",
    "            attn_size = self.config.attn_size,\n",
    "            enc_hidden_size = self.config.enc_hidden_size,\n",
    "            dec_hidden_size = self.config.dec_hidden_size\n",
    "        ).to(self.device)\n",
    "\n",
    "        self.criterion = nn.CrossEntropyLoss(ignore_index = self.vocab[\"<pad>\"])\n",
    "        self.optimizer = optim.Adam(\n",
    "            self.model.parameters(),\n",
    "            lr = self.config.learning_rate\n",
    "        )\n",
    "        logger.info(\"Model is Initiated.\")\n",
    "\n",
    "    def save_model(self, model, num_epochs):\n",
    "\n",
    "        model_state = {\n",
    "            \"num_epcohs\": num_epochs,\n",
    "            \"emb_size\": self.config.emb_size,\n",
    "            \"vocab_size\": len(self.vocab),\n",
    "            \"attn_size\": self.config.attn_size,\n",
    "            \"enc_hidden_size\": self.config.enc_hidden_size,\n",
    "            \"dec_hidden_size\": self.config.dec_hidden_size,\n",
    "            \"state_dict\": model.state_dict()\n",
    "        }\n",
    "        torch.save(model_state, f\"{self.config.root_dir}/attention_model_state.pth\")\n",
    "\n",
    "    def _read_data_loader(self):\n",
    "        with open(self.config.data_dir, \"rb\") as f:\n",
    "            self.data_loader = pickle.load(f)\n",
    "\n",
    "    def train_model(self, num_epochs: int = 3, print_every: int = 100):\n",
    "\n",
    "        logger.info(\"Model training has been started.\")\n",
    "        for epoch in range(num_epochs):\n",
    "            with tqdm(enumerate(self.data_loader), total = len(self.data_loader), desc = f\"Epoch {epoch + 1}/{num_epochs}\") as pbar:\n",
    "                for idx, (image, captions) in pbar:\n",
    "                    image, captions = image.to(self.device), captions.to(self.device)\n",
    "                    self.model.train()\n",
    "                    self.optimizer.zero_grad()\n",
    "\n",
    "                    outputs, attentions = self.model(image, captions)\n",
    "\n",
    "                    targets = captions[:, 1:]\n",
    "\n",
    "                    loss = self.criterion(outputs.view(-1, len(self.vocab)), targets.reshape(-1))\n",
    "\n",
    "                    loss.backward()\n",
    "                    self.optimizer.step()\n",
    "                    if (idx + 1) % print_every == 0:\n",
    "                        logger.info(f\"Epoch [{epoch}/{num_epochs}], Step [{idx + 1}/{len(self.data_loader)}], Loss: {loss.item()}\")\n",
    "\n",
    "                        self.model.eval()\n",
    "                        with torch.no_grad():\n",
    "                            img, _ = next(iter(self.data_loader))\n",
    "                            features = self.model.encoder(img[0:1].to(self.device))\n",
    "                            caps, attn_weights = self.model.decoder.generate_caption(features, self.vocab)\n",
    "\n",
    "                            caption = \" \".join(caps)\n",
    "                            print(caption)\n",
    "\n",
    "                        self.model.train()\n",
    "\n",
    "                self.save_model(self.model, epoch)"
   ]
  },
  {
   "cell_type": "markdown",
   "metadata": {},
   "source": [
    "Pipeline"
   ]
  },
  {
   "cell_type": "code",
   "execution_count": 15,
   "metadata": {},
   "outputs": [
    {
     "name": "stdout",
     "output_type": "stream",
     "text": [
      "[2024-12-10 15:00:58,558: INFO: common: yaml file: config\\config.yaml loaded successfully]\n",
      "[2024-12-10 15:00:58,559: INFO: common: yaml file: params.yaml loaded successfully]\n",
      "[2024-12-10 15:00:58,560: INFO: common: created directory at: artifacts]\n",
      "[2024-12-10 15:00:58,560: INFO: common: created directory at: artifacts/model_trainer]\n",
      "[2024-12-10 15:01:31,328: INFO: 1902623072: Model is Initiated.]\n",
      "[2024-12-10 15:01:31,344: INFO: 1902623072: Model training has been started.]\n"
     ]
    },
    {
     "name": "stderr",
     "output_type": "stream",
     "text": [
      "Epoch 1/3: 100%|██████████| 40/40 [11:42<00:00, 17.57s/it]\n",
      "Epoch 2/3: 100%|██████████| 40/40 [11:38<00:00, 17.47s/it]\n",
      "Epoch 3/3: 100%|██████████| 40/40 [11:38<00:00, 17.47s/it]\n"
     ]
    }
   ],
   "source": [
    "try:\n",
    "    config = ConfigurationManager()\n",
    "    model_trainer_config = config.get_model_trainer_config()\n",
    "    model_train = ModelTrain(model_trainer_config)\n",
    "    model_train.train_model()\n",
    "except Exception as e:\n",
    "    raise e"
   ]
  }
 ],
 "metadata": {
  "kernelspec": {
   "display_name": ".venv",
   "language": "python",
   "name": "python3"
  },
  "language_info": {
   "codemirror_mode": {
    "name": "ipython",
    "version": 3
   },
   "file_extension": ".py",
   "mimetype": "text/x-python",
   "name": "python",
   "nbconvert_exporter": "python",
   "pygments_lexer": "ipython3",
   "version": "3.11.8"
  }
 },
 "nbformat": 4,
 "nbformat_minor": 2
}
